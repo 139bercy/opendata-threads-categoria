{
 "cells": [
  {
   "cell_type": "code",
   "execution_count": 1,
   "metadata": {},
   "outputs": [],
   "source": [
    "import pandas as pd"
   ]
  },
  {
   "cell_type": "code",
   "execution_count": 3,
   "metadata": {},
   "outputs": [
    {
     "data": {
      "text/html": [
       "<div>\n",
       "<style scoped>\n",
       "    .dataframe tbody tr th:only-of-type {\n",
       "        vertical-align: middle;\n",
       "    }\n",
       "\n",
       "    .dataframe tbody tr th {\n",
       "        vertical-align: top;\n",
       "    }\n",
       "\n",
       "    .dataframe thead th {\n",
       "        text-align: right;\n",
       "    }\n",
       "</style>\n",
       "<table border=\"1\" class=\"dataframe\">\n",
       "  <thead>\n",
       "    <tr style=\"text-align: right;\">\n",
       "      <th></th>\n",
       "      <th>id_discussion</th>\n",
       "      <th>id_dataset</th>\n",
       "      <th>title_discussion</th>\n",
       "      <th>user</th>\n",
       "      <th>message</th>\n",
       "      <th>created</th>\n",
       "      <th>closed</th>\n",
       "      <th>posted_on</th>\n",
       "    </tr>\n",
       "  </thead>\n",
       "  <tbody>\n",
       "    <tr>\n",
       "      <th>0</th>\n",
       "      <td>64fee6b8a90afb1f587b766d</td>\n",
       "      <td>5de8f397634f4164071119c5</td>\n",
       "      <td>Décès des nouveaux-nés</td>\n",
       "      <td>Thomas PJ</td>\n",
       "      <td>Bonjour à tous,\\n\\nAprès exploration des fichi...</td>\n",
       "      <td>11/09/2023</td>\n",
       "      <td>NaN</td>\n",
       "      <td>2023-09-11T10:06:48.524000+00:00</td>\n",
       "    </tr>\n",
       "    <tr>\n",
       "      <th>1</th>\n",
       "      <td>64fed88663dda0863ebd1746</td>\n",
       "      <td>58d8d8a0c751df17537c66be</td>\n",
       "      <td>Pyrénées Atlantique</td>\n",
       "      <td>Hélène Grosbois</td>\n",
       "      <td>Bonjour,\\nIl y n'y a que les Pyrennées Atlanti...</td>\n",
       "      <td>11/09/2023</td>\n",
       "      <td>NaN</td>\n",
       "      <td>2023-09-11T09:06:14.163000+00:00</td>\n",
       "    </tr>\n",
       "    <tr>\n",
       "      <th>2</th>\n",
       "      <td>64fed88663dda0863ebd1746</td>\n",
       "      <td>58d8d8a0c751df17537c66be</td>\n",
       "      <td>Pyrénées Atlantique</td>\n",
       "      <td>Hélène Grosbois</td>\n",
       "      <td>Je me suis trompée de page, je parle du fichie...</td>\n",
       "      <td>11/09/2023</td>\n",
       "      <td>NaN</td>\n",
       "      <td>2023-09-11T09:07:52.833000+00:00</td>\n",
       "    </tr>\n",
       "  </tbody>\n",
       "</table>\n",
       "</div>"
      ],
      "text/plain": [
       "              id_discussion                id_dataset        title_discussion  \\\n",
       "0  64fee6b8a90afb1f587b766d  5de8f397634f4164071119c5  Décès des nouveaux-nés   \n",
       "1  64fed88663dda0863ebd1746  58d8d8a0c751df17537c66be     Pyrénées Atlantique   \n",
       "2  64fed88663dda0863ebd1746  58d8d8a0c751df17537c66be     Pyrénées Atlantique   \n",
       "\n",
       "              user                                            message  \\\n",
       "0        Thomas PJ  Bonjour à tous,\\n\\nAprès exploration des fichi...   \n",
       "1  Hélène Grosbois  Bonjour,\\nIl y n'y a que les Pyrennées Atlanti...   \n",
       "2  Hélène Grosbois  Je me suis trompée de page, je parle du fichie...   \n",
       "\n",
       "      created closed                         posted_on  \n",
       "0  11/09/2023    NaN  2023-09-11T10:06:48.524000+00:00  \n",
       "1  11/09/2023    NaN  2023-09-11T09:06:14.163000+00:00  \n",
       "2  11/09/2023    NaN  2023-09-11T09:07:52.833000+00:00  "
      ]
     },
     "execution_count": 3,
     "metadata": {},
     "output_type": "execute_result"
    }
   ],
   "source": [
    "input_csv_file = '../../../data/raw/data_acquisition/extraction_discussions/discussions.csv'\n",
    "discussions = pd.read_csv(input_csv_file)\n",
    "discussions.head(3)"
   ]
  },
  {
   "cell_type": "code",
   "execution_count": 4,
   "metadata": {},
   "outputs": [
    {
     "data": {
      "text/plain": [
       "(31348, 8)"
      ]
     },
     "execution_count": 4,
     "metadata": {},
     "output_type": "execute_result"
    }
   ],
   "source": [
    "discussions.shape"
   ]
  },
  {
   "cell_type": "code",
   "execution_count": 5,
   "metadata": {},
   "outputs": [
    {
     "data": {
      "text/plain": [
       "id_discussion           0\n",
       "id_dataset              0\n",
       "title_discussion        0\n",
       "user                    0\n",
       "message                 0\n",
       "created                 0\n",
       "closed              25138\n",
       "posted_on               0\n",
       "dtype: int64"
      ]
     },
     "execution_count": 5,
     "metadata": {},
     "output_type": "execute_result"
    }
   ],
   "source": [
    "discussions.isna().sum()"
   ]
  },
  {
   "cell_type": "code",
   "execution_count": 6,
   "metadata": {},
   "outputs": [
    {
     "data": {
      "text/html": [
       "<div>\n",
       "<style scoped>\n",
       "    .dataframe tbody tr th:only-of-type {\n",
       "        vertical-align: middle;\n",
       "    }\n",
       "\n",
       "    .dataframe tbody tr th {\n",
       "        vertical-align: top;\n",
       "    }\n",
       "\n",
       "    .dataframe thead th {\n",
       "        text-align: right;\n",
       "    }\n",
       "</style>\n",
       "<table border=\"1\" class=\"dataframe\">\n",
       "  <thead>\n",
       "    <tr style=\"text-align: right;\">\n",
       "      <th></th>\n",
       "      <th>id_dataset</th>\n",
       "      <th>title_dataset</th>\n",
       "      <th>description_dataset</th>\n",
       "      <th>organization</th>\n",
       "      <th>url_dataset</th>\n",
       "      <th>nb_discussions</th>\n",
       "      <th>nb_followers</th>\n",
       "      <th>nb_reuses</th>\n",
       "      <th>nb_views</th>\n",
       "      <th>remote_id</th>\n",
       "      <th>last_update</th>\n",
       "    </tr>\n",
       "  </thead>\n",
       "  <tbody>\n",
       "    <tr>\n",
       "      <th>0</th>\n",
       "      <td>65006d66c1338fced97fae14</td>\n",
       "      <td>CHI Caux Vallée de Seine</td>\n",
       "      <td>Parking public CHI Lillebonne : 2x7kVA &amp; 2x22kVA</td>\n",
       "      <td>SOGETREL NORMANDIE</td>\n",
       "      <td>https://www.data.gouv.fr/fr/datasets/chi-caux-...</td>\n",
       "      <td>0</td>\n",
       "      <td>0</td>\n",
       "      <td>0</td>\n",
       "      <td>0</td>\n",
       "      <td>NaN</td>\n",
       "      <td>2023-09-12T13:53:55.285000+0000</td>\n",
       "    </tr>\n",
       "    <tr>\n",
       "      <th>1</th>\n",
       "      <td>650058b88c347ca616bcb5b2</td>\n",
       "      <td>Projets informatiques de l’État : retrouvez l'...</td>\n",
       "      <td>C’est l’une des missions assignées à la DINUM ...</td>\n",
       "      <td>Direction interministérielle du numérique</td>\n",
       "      <td>https://www.data.gouv.fr/fr/datasets/projets-i...</td>\n",
       "      <td>0</td>\n",
       "      <td>0</td>\n",
       "      <td>0</td>\n",
       "      <td>0</td>\n",
       "      <td>NaN</td>\n",
       "      <td>2023-09-12T12:41:28.780000+0000</td>\n",
       "    </tr>\n",
       "    <tr>\n",
       "      <th>2</th>\n",
       "      <td>65002d33cdef8d9f1ecff9ca</td>\n",
       "      <td>Base Adresse Locale MURASSON (12/09/2023)</td>\n",
       "      <td>Base Adresse Locale de la commune de Murasson</td>\n",
       "      <td>SMICA</td>\n",
       "      <td>https://www.data.gouv.fr/fr/datasets/base-adre...</td>\n",
       "      <td>0</td>\n",
       "      <td>0</td>\n",
       "      <td>0</td>\n",
       "      <td>0</td>\n",
       "      <td>NaN</td>\n",
       "      <td>2023-09-12T09:20:04.003000+0000</td>\n",
       "    </tr>\n",
       "  </tbody>\n",
       "</table>\n",
       "</div>"
      ],
      "text/plain": [
       "                 id_dataset  \\\n",
       "0  65006d66c1338fced97fae14   \n",
       "1  650058b88c347ca616bcb5b2   \n",
       "2  65002d33cdef8d9f1ecff9ca   \n",
       "\n",
       "                                       title_dataset  \\\n",
       "0                           CHI Caux Vallée de Seine   \n",
       "1  Projets informatiques de l’État : retrouvez l'...   \n",
       "2          Base Adresse Locale MURASSON (12/09/2023)   \n",
       "\n",
       "                                 description_dataset  \\\n",
       "0   Parking public CHI Lillebonne : 2x7kVA & 2x22kVA   \n",
       "1  C’est l’une des missions assignées à la DINUM ...   \n",
       "2      Base Adresse Locale de la commune de Murasson   \n",
       "\n",
       "                                organization  \\\n",
       "0                         SOGETREL NORMANDIE   \n",
       "1  Direction interministérielle du numérique   \n",
       "2                                      SMICA   \n",
       "\n",
       "                                         url_dataset  nb_discussions  \\\n",
       "0  https://www.data.gouv.fr/fr/datasets/chi-caux-...               0   \n",
       "1  https://www.data.gouv.fr/fr/datasets/projets-i...               0   \n",
       "2  https://www.data.gouv.fr/fr/datasets/base-adre...               0   \n",
       "\n",
       "   nb_followers  nb_reuses  nb_views remote_id  \\\n",
       "0             0          0         0       NaN   \n",
       "1             0          0         0       NaN   \n",
       "2             0          0         0       NaN   \n",
       "\n",
       "                       last_update  \n",
       "0  2023-09-12T13:53:55.285000+0000  \n",
       "1  2023-09-12T12:41:28.780000+0000  \n",
       "2  2023-09-12T09:20:04.003000+0000  "
      ]
     },
     "execution_count": 6,
     "metadata": {},
     "output_type": "execute_result"
    }
   ],
   "source": [
    "input_csv_file = '../../../data/raw/data_acquisition/extraction_datasets/datasets.csv'\n",
    "datasets = pd.read_csv(input_csv_file)\n",
    "datasets.head(3)"
   ]
  },
  {
   "cell_type": "code",
   "execution_count": 7,
   "metadata": {},
   "outputs": [
    {
     "data": {
      "text/plain": [
       "(48936, 11)"
      ]
     },
     "execution_count": 7,
     "metadata": {},
     "output_type": "execute_result"
    }
   ],
   "source": [
    "datasets.shape"
   ]
  },
  {
   "cell_type": "code",
   "execution_count": 8,
   "metadata": {},
   "outputs": [
    {
     "data": {
      "text/plain": [
       "id_dataset                 0\n",
       "title_dataset              0\n",
       "description_dataset      472\n",
       "organization            3374\n",
       "url_dataset                0\n",
       "nb_discussions             0\n",
       "nb_followers               0\n",
       "nb_reuses                  0\n",
       "nb_views                   0\n",
       "remote_id              30373\n",
       "last_update                0\n",
       "dtype: int64"
      ]
     },
     "execution_count": 8,
     "metadata": {},
     "output_type": "execute_result"
    }
   ],
   "source": [
    "datasets.isna().sum()"
   ]
  },
  {
   "cell_type": "code",
   "execution_count": 9,
   "metadata": {},
   "outputs": [
    {
     "data": {
      "text/html": [
       "<div>\n",
       "<style scoped>\n",
       "    .dataframe tbody tr th:only-of-type {\n",
       "        vertical-align: middle;\n",
       "    }\n",
       "\n",
       "    .dataframe tbody tr th {\n",
       "        vertical-align: top;\n",
       "    }\n",
       "\n",
       "    .dataframe thead th {\n",
       "        text-align: right;\n",
       "    }\n",
       "</style>\n",
       "<table border=\"1\" class=\"dataframe\">\n",
       "  <thead>\n",
       "    <tr style=\"text-align: right;\">\n",
       "      <th></th>\n",
       "      <th>id_discussion</th>\n",
       "      <th>id_dataset</th>\n",
       "      <th>title_discussion</th>\n",
       "      <th>user</th>\n",
       "      <th>message</th>\n",
       "      <th>created</th>\n",
       "      <th>closed</th>\n",
       "      <th>posted_on</th>\n",
       "      <th>title_dataset</th>\n",
       "      <th>description_dataset</th>\n",
       "      <th>organization</th>\n",
       "      <th>url_dataset</th>\n",
       "      <th>nb_discussions</th>\n",
       "      <th>nb_followers</th>\n",
       "      <th>nb_reuses</th>\n",
       "      <th>nb_views</th>\n",
       "      <th>remote_id</th>\n",
       "      <th>last_update</th>\n",
       "    </tr>\n",
       "  </thead>\n",
       "  <tbody>\n",
       "    <tr>\n",
       "      <th>0</th>\n",
       "      <td>64fee6b8a90afb1f587b766d</td>\n",
       "      <td>5de8f397634f4164071119c5</td>\n",
       "      <td>Décès des nouveaux-nés</td>\n",
       "      <td>Thomas PJ</td>\n",
       "      <td>Bonjour à tous,\\n\\nAprès exploration des fichi...</td>\n",
       "      <td>11/09/2023</td>\n",
       "      <td>NaN</td>\n",
       "      <td>2023-09-11T10:06:48.524000+00:00</td>\n",
       "      <td>Fichier des personnes décédées</td>\n",
       "      <td>**Les fichiers nominatifs diffusés ici ne sont...</td>\n",
       "      <td>Institut National de la Statistique et des Etu...</td>\n",
       "      <td>https://www.data.gouv.fr/fr/datasets/fichier-d...</td>\n",
       "      <td>114</td>\n",
       "      <td>135</td>\n",
       "      <td>33</td>\n",
       "      <td>5162</td>\n",
       "      <td>NaN</td>\n",
       "      <td>2023-09-05T05:41:05.292000+0000</td>\n",
       "    </tr>\n",
       "    <tr>\n",
       "      <th>1</th>\n",
       "      <td>64f6f220aef7b0a918c13b9a</td>\n",
       "      <td>5de8f397634f4164071119c5</td>\n",
       "      <td>prise en compte de l'article 85</td>\n",
       "      <td>alain LOUERA</td>\n",
       "      <td>bonjour\\nj'ai reçu par mail une demande de mas...</td>\n",
       "      <td>05/09/2023</td>\n",
       "      <td>NaN</td>\n",
       "      <td>2023-09-05T09:17:20.892000+00:00</td>\n",
       "      <td>Fichier des personnes décédées</td>\n",
       "      <td>**Les fichiers nominatifs diffusés ici ne sont...</td>\n",
       "      <td>Institut National de la Statistique et des Etu...</td>\n",
       "      <td>https://www.data.gouv.fr/fr/datasets/fichier-d...</td>\n",
       "      <td>114</td>\n",
       "      <td>135</td>\n",
       "      <td>33</td>\n",
       "      <td>5162</td>\n",
       "      <td>NaN</td>\n",
       "      <td>2023-09-05T05:41:05.292000+0000</td>\n",
       "    </tr>\n",
       "    <tr>\n",
       "      <th>2</th>\n",
       "      <td>64f6f220aef7b0a918c13b9a</td>\n",
       "      <td>5de8f397634f4164071119c5</td>\n",
       "      <td>prise en compte de l'article 85</td>\n",
       "      <td>alain LOUERA</td>\n",
       "      <td>et une autre question sur ce fichier des oppos...</td>\n",
       "      <td>05/09/2023</td>\n",
       "      <td>NaN</td>\n",
       "      <td>2023-09-05T09:20:26.618000+00:00</td>\n",
       "      <td>Fichier des personnes décédées</td>\n",
       "      <td>**Les fichiers nominatifs diffusés ici ne sont...</td>\n",
       "      <td>Institut National de la Statistique et des Etu...</td>\n",
       "      <td>https://www.data.gouv.fr/fr/datasets/fichier-d...</td>\n",
       "      <td>114</td>\n",
       "      <td>135</td>\n",
       "      <td>33</td>\n",
       "      <td>5162</td>\n",
       "      <td>NaN</td>\n",
       "      <td>2023-09-05T05:41:05.292000+0000</td>\n",
       "    </tr>\n",
       "  </tbody>\n",
       "</table>\n",
       "</div>"
      ],
      "text/plain": [
       "              id_discussion                id_dataset  \\\n",
       "0  64fee6b8a90afb1f587b766d  5de8f397634f4164071119c5   \n",
       "1  64f6f220aef7b0a918c13b9a  5de8f397634f4164071119c5   \n",
       "2  64f6f220aef7b0a918c13b9a  5de8f397634f4164071119c5   \n",
       "\n",
       "                  title_discussion          user  \\\n",
       "0           Décès des nouveaux-nés     Thomas PJ   \n",
       "1  prise en compte de l'article 85  alain LOUERA   \n",
       "2  prise en compte de l'article 85  alain LOUERA   \n",
       "\n",
       "                                             message     created closed  \\\n",
       "0  Bonjour à tous,\\n\\nAprès exploration des fichi...  11/09/2023    NaN   \n",
       "1  bonjour\\nj'ai reçu par mail une demande de mas...  05/09/2023    NaN   \n",
       "2  et une autre question sur ce fichier des oppos...  05/09/2023    NaN   \n",
       "\n",
       "                          posted_on                   title_dataset  \\\n",
       "0  2023-09-11T10:06:48.524000+00:00  Fichier des personnes décédées   \n",
       "1  2023-09-05T09:17:20.892000+00:00  Fichier des personnes décédées   \n",
       "2  2023-09-05T09:20:26.618000+00:00  Fichier des personnes décédées   \n",
       "\n",
       "                                 description_dataset  \\\n",
       "0  **Les fichiers nominatifs diffusés ici ne sont...   \n",
       "1  **Les fichiers nominatifs diffusés ici ne sont...   \n",
       "2  **Les fichiers nominatifs diffusés ici ne sont...   \n",
       "\n",
       "                                        organization  \\\n",
       "0  Institut National de la Statistique et des Etu...   \n",
       "1  Institut National de la Statistique et des Etu...   \n",
       "2  Institut National de la Statistique et des Etu...   \n",
       "\n",
       "                                         url_dataset  nb_discussions  \\\n",
       "0  https://www.data.gouv.fr/fr/datasets/fichier-d...             114   \n",
       "1  https://www.data.gouv.fr/fr/datasets/fichier-d...             114   \n",
       "2  https://www.data.gouv.fr/fr/datasets/fichier-d...             114   \n",
       "\n",
       "   nb_followers  nb_reuses  nb_views remote_id  \\\n",
       "0           135         33      5162       NaN   \n",
       "1           135         33      5162       NaN   \n",
       "2           135         33      5162       NaN   \n",
       "\n",
       "                       last_update  \n",
       "0  2023-09-05T05:41:05.292000+0000  \n",
       "1  2023-09-05T05:41:05.292000+0000  \n",
       "2  2023-09-05T05:41:05.292000+0000  "
      ]
     },
     "execution_count": 9,
     "metadata": {},
     "output_type": "execute_result"
    }
   ],
   "source": [
    "input_csv_file = '../../../data/raw/data_acquisition/merging_data/merged_data.csv'\n",
    "df_merged = pd.read_csv(input_csv_file)\n",
    "df_merged.head(3)"
   ]
  },
  {
   "cell_type": "code",
   "execution_count": 10,
   "metadata": {},
   "outputs": [
    {
     "data": {
      "text/plain": [
       "(28535, 18)"
      ]
     },
     "execution_count": 10,
     "metadata": {},
     "output_type": "execute_result"
    }
   ],
   "source": [
    "df_merged.shape"
   ]
  },
  {
   "cell_type": "code",
   "execution_count": 11,
   "metadata": {},
   "outputs": [
    {
     "data": {
      "text/plain": [
       "id_discussion              0\n",
       "id_dataset                 0\n",
       "title_discussion           0\n",
       "user                       0\n",
       "message                    0\n",
       "created                    0\n",
       "closed                 22884\n",
       "posted_on                  0\n",
       "title_dataset              0\n",
       "description_dataset       27\n",
       "organization            1725\n",
       "url_dataset                0\n",
       "nb_discussions             0\n",
       "nb_followers               0\n",
       "nb_reuses                  0\n",
       "nb_views                   0\n",
       "remote_id              25883\n",
       "last_update                0\n",
       "dtype: int64"
      ]
     },
     "execution_count": 11,
     "metadata": {},
     "output_type": "execute_result"
    }
   ],
   "source": [
    "df_merged.isna().sum()"
   ]
  },
  {
   "cell_type": "code",
   "execution_count": 12,
   "metadata": {},
   "outputs": [
    {
     "data": {
      "text/html": [
       "<div>\n",
       "<style scoped>\n",
       "    .dataframe tbody tr th:only-of-type {\n",
       "        vertical-align: middle;\n",
       "    }\n",
       "\n",
       "    .dataframe tbody tr th {\n",
       "        vertical-align: top;\n",
       "    }\n",
       "\n",
       "    .dataframe thead th {\n",
       "        text-align: right;\n",
       "    }\n",
       "</style>\n",
       "<table border=\"1\" class=\"dataframe\">\n",
       "  <thead>\n",
       "    <tr style=\"text-align: right;\">\n",
       "      <th></th>\n",
       "      <th>id_discussion</th>\n",
       "      <th>id_dataset</th>\n",
       "      <th>title_discussion</th>\n",
       "      <th>user</th>\n",
       "      <th>message</th>\n",
       "      <th>created</th>\n",
       "      <th>closed</th>\n",
       "      <th>posted_on</th>\n",
       "      <th>title_dataset</th>\n",
       "      <th>description_dataset</th>\n",
       "      <th>organization</th>\n",
       "      <th>url_dataset</th>\n",
       "      <th>nb_discussions</th>\n",
       "      <th>nb_followers</th>\n",
       "      <th>nb_reuses</th>\n",
       "      <th>nb_views</th>\n",
       "      <th>remote_id</th>\n",
       "      <th>last_update</th>\n",
       "    </tr>\n",
       "  </thead>\n",
       "  <tbody>\n",
       "    <tr>\n",
       "      <th>0</th>\n",
       "      <td>64f87fc80c0e2957e74b574c</td>\n",
       "      <td>5a576fda88ee381c9d4e3304</td>\n",
       "      <td>Doublon ?</td>\n",
       "      <td>Marianne MARTIN</td>\n",
       "      <td>Bonjour, \\nJe recherche les parcelles ascendan...</td>\n",
       "      <td>06/09/2023</td>\n",
       "      <td>NaN</td>\n",
       "      <td>2023-09-06T13:34:00.844000+00:00</td>\n",
       "      <td>Documents de filiation informatisés (DFI) des ...</td>\n",
       "      <td>Les fichiers départementaux des documents de f...</td>\n",
       "      <td>Ministère de l'Économie, des Finances et de la...</td>\n",
       "      <td>https://www.data.gouv.fr/fr/datasets/documents...</td>\n",
       "      <td>4</td>\n",
       "      <td>14</td>\n",
       "      <td>2</td>\n",
       "      <td>522</td>\n",
       "      <td>documents-de-filiation-informatises-dfi-des-pa...</td>\n",
       "      <td>2023-07-05T00:03:53.560000+0000</td>\n",
       "    </tr>\n",
       "    <tr>\n",
       "      <th>1</th>\n",
       "      <td>64f87fc80c0e2957e74b574c</td>\n",
       "      <td>5a576fda88ee381c9d4e3304</td>\n",
       "      <td>Doublon ?</td>\n",
       "      <td>Marianne MARTIN</td>\n",
       "      <td>Bonjour,\\nIl existe en effet deux parcelles AV...</td>\n",
       "      <td>06/09/2023</td>\n",
       "      <td>NaN</td>\n",
       "      <td>2023-09-08T07:33:15.910000+00:00</td>\n",
       "      <td>Documents de filiation informatisés (DFI) des ...</td>\n",
       "      <td>Les fichiers départementaux des documents de f...</td>\n",
       "      <td>Ministère de l'Économie, des Finances et de la...</td>\n",
       "      <td>https://www.data.gouv.fr/fr/datasets/documents...</td>\n",
       "      <td>4</td>\n",
       "      <td>14</td>\n",
       "      <td>2</td>\n",
       "      <td>522</td>\n",
       "      <td>documents-de-filiation-informatises-dfi-des-pa...</td>\n",
       "      <td>2023-07-05T00:03:53.560000+0000</td>\n",
       "    </tr>\n",
       "    <tr>\n",
       "      <th>2</th>\n",
       "      <td>613878e1ee5f152d7a2b732b</td>\n",
       "      <td>5a576fda88ee381c9d4e3304</td>\n",
       "      <td>Parcelle AV 218, Commune Eguiiles, 13510</td>\n",
       "      <td>Peter Theokritoff</td>\n",
       "      <td>Bonjour\\nComment puis je savoir ce qui est adv...</td>\n",
       "      <td>08/09/2021</td>\n",
       "      <td>NaN</td>\n",
       "      <td>2021-09-08T10:48:33.768000+00:00</td>\n",
       "      <td>Documents de filiation informatisés (DFI) des ...</td>\n",
       "      <td>Les fichiers départementaux des documents de f...</td>\n",
       "      <td>Ministère de l'Économie, des Finances et de la...</td>\n",
       "      <td>https://www.data.gouv.fr/fr/datasets/documents...</td>\n",
       "      <td>4</td>\n",
       "      <td>14</td>\n",
       "      <td>2</td>\n",
       "      <td>522</td>\n",
       "      <td>documents-de-filiation-informatises-dfi-des-pa...</td>\n",
       "      <td>2023-07-05T00:03:53.560000+0000</td>\n",
       "    </tr>\n",
       "  </tbody>\n",
       "</table>\n",
       "</div>"
      ],
      "text/plain": [
       "              id_discussion                id_dataset  \\\n",
       "0  64f87fc80c0e2957e74b574c  5a576fda88ee381c9d4e3304   \n",
       "1  64f87fc80c0e2957e74b574c  5a576fda88ee381c9d4e3304   \n",
       "2  613878e1ee5f152d7a2b732b  5a576fda88ee381c9d4e3304   \n",
       "\n",
       "                           title_discussion               user  \\\n",
       "0                                Doublon ?     Marianne MARTIN   \n",
       "1                                Doublon ?     Marianne MARTIN   \n",
       "2  Parcelle AV 218, Commune Eguiiles, 13510  Peter Theokritoff   \n",
       "\n",
       "                                             message     created closed  \\\n",
       "0  Bonjour, \\nJe recherche les parcelles ascendan...  06/09/2023    NaN   \n",
       "1  Bonjour,\\nIl existe en effet deux parcelles AV...  06/09/2023    NaN   \n",
       "2  Bonjour\\nComment puis je savoir ce qui est adv...  08/09/2021    NaN   \n",
       "\n",
       "                          posted_on  \\\n",
       "0  2023-09-06T13:34:00.844000+00:00   \n",
       "1  2023-09-08T07:33:15.910000+00:00   \n",
       "2  2021-09-08T10:48:33.768000+00:00   \n",
       "\n",
       "                                       title_dataset  \\\n",
       "0  Documents de filiation informatisés (DFI) des ...   \n",
       "1  Documents de filiation informatisés (DFI) des ...   \n",
       "2  Documents de filiation informatisés (DFI) des ...   \n",
       "\n",
       "                                 description_dataset  \\\n",
       "0  Les fichiers départementaux des documents de f...   \n",
       "1  Les fichiers départementaux des documents de f...   \n",
       "2  Les fichiers départementaux des documents de f...   \n",
       "\n",
       "                                        organization  \\\n",
       "0  Ministère de l'Économie, des Finances et de la...   \n",
       "1  Ministère de l'Économie, des Finances et de la...   \n",
       "2  Ministère de l'Économie, des Finances et de la...   \n",
       "\n",
       "                                         url_dataset  nb_discussions  \\\n",
       "0  https://www.data.gouv.fr/fr/datasets/documents...               4   \n",
       "1  https://www.data.gouv.fr/fr/datasets/documents...               4   \n",
       "2  https://www.data.gouv.fr/fr/datasets/documents...               4   \n",
       "\n",
       "   nb_followers  nb_reuses  nb_views  \\\n",
       "0            14          2       522   \n",
       "1            14          2       522   \n",
       "2            14          2       522   \n",
       "\n",
       "                                           remote_id  \\\n",
       "0  documents-de-filiation-informatises-dfi-des-pa...   \n",
       "1  documents-de-filiation-informatises-dfi-des-pa...   \n",
       "2  documents-de-filiation-informatises-dfi-des-pa...   \n",
       "\n",
       "                       last_update  \n",
       "0  2023-07-05T00:03:53.560000+0000  \n",
       "1  2023-07-05T00:03:53.560000+0000  \n",
       "2  2023-07-05T00:03:53.560000+0000  "
      ]
     },
     "execution_count": 12,
     "metadata": {},
     "output_type": "execute_result"
    }
   ],
   "source": [
    "input_csv_file = '../../../data/raw/data_acquisition/merging_data/dataset_mefsin.csv'\n",
    "mefsin = pd.read_csv(input_csv_file)\n",
    "mefsin.head(3)"
   ]
  },
  {
   "cell_type": "code",
   "execution_count": 13,
   "metadata": {},
   "outputs": [
    {
     "data": {
      "text/plain": [
       "(1284, 18)"
      ]
     },
     "execution_count": 13,
     "metadata": {},
     "output_type": "execute_result"
    }
   ],
   "source": [
    "mefsin.shape"
   ]
  },
  {
   "cell_type": "code",
   "execution_count": 14,
   "metadata": {},
   "outputs": [
    {
     "data": {
      "text/plain": [
       "id_discussion            0\n",
       "id_dataset               0\n",
       "title_discussion         0\n",
       "user                     0\n",
       "message                  0\n",
       "created                  0\n",
       "closed                 834\n",
       "posted_on                0\n",
       "title_dataset            0\n",
       "description_dataset      0\n",
       "organization             0\n",
       "url_dataset              0\n",
       "nb_discussions           0\n",
       "nb_followers             0\n",
       "nb_reuses                0\n",
       "nb_views                 0\n",
       "remote_id              589\n",
       "last_update              0\n",
       "dtype: int64"
      ]
     },
     "execution_count": 14,
     "metadata": {},
     "output_type": "execute_result"
    }
   ],
   "source": [
    "mefsin.isna().sum()"
   ]
  },
  {
   "cell_type": "code",
   "execution_count": 16,
   "metadata": {},
   "outputs": [
    {
     "data": {
      "text/plain": [
       "Index(['id_discussion', 'id_dataset', 'title_discussion', 'user', 'message',\n",
       "       'created', 'closed', 'posted_on', 'title_dataset',\n",
       "       'description_dataset', 'organization', 'url_dataset', 'nb_discussions',\n",
       "       'nb_followers', 'nb_reuses', 'nb_views', 'remote_id', 'last_update'],\n",
       "      dtype='object')"
      ]
     },
     "execution_count": 16,
     "metadata": {},
     "output_type": "execute_result"
    }
   ],
   "source": [
    "mefsin.columns"
   ]
  },
  {
   "cell_type": "code",
   "execution_count": null,
   "metadata": {},
   "outputs": [],
   "source": []
  }
 ],
 "metadata": {
  "kernelspec": {
   "display_name": "Python 3.10.12 64-bit",
   "language": "python",
   "name": "python3"
  },
  "language_info": {
   "codemirror_mode": {
    "name": "ipython",
    "version": 3
   },
   "file_extension": ".py",
   "mimetype": "text/x-python",
   "name": "python",
   "nbconvert_exporter": "python",
   "pygments_lexer": "ipython3",
   "version": "3.10.12"
  },
  "orig_nbformat": 4,
  "vscode": {
   "interpreter": {
    "hash": "916dbcbb3f70747c44a77c7bcd40155683ae19c65e1c03b4aa3499c5328201f1"
   }
  }
 },
 "nbformat": 4,
 "nbformat_minor": 2
}
