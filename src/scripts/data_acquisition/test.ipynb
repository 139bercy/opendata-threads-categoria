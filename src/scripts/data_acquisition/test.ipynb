{
 "cells": [
  {
   "cell_type": "code",
   "execution_count": 34,
   "metadata": {},
   "outputs": [],
   "source": [
    "import pandas as pd"
   ]
  },
  {
   "cell_type": "code",
   "execution_count": 20,
   "metadata": {},
   "outputs": [
    {
     "data": {
      "text/html": [
       "<div>\n",
       "<style scoped>\n",
       "    .dataframe tbody tr th:only-of-type {\n",
       "        vertical-align: middle;\n",
       "    }\n",
       "\n",
       "    .dataframe tbody tr th {\n",
       "        vertical-align: top;\n",
       "    }\n",
       "\n",
       "    .dataframe thead th {\n",
       "        text-align: right;\n",
       "    }\n",
       "</style>\n",
       "<table border=\"1\" class=\"dataframe\">\n",
       "  <thead>\n",
       "    <tr style=\"text-align: right;\">\n",
       "      <th></th>\n",
       "      <th>id_dataset</th>\n",
       "      <th>title_dataset</th>\n",
       "      <th>description_dataset</th>\n",
       "      <th>organization</th>\n",
       "      <th>url_dataset</th>\n",
       "      <th>nb_discussions</th>\n",
       "      <th>nb_followers</th>\n",
       "      <th>nb_reuses</th>\n",
       "      <th>nb_views</th>\n",
       "      <th>remote_id</th>\n",
       "    </tr>\n",
       "  </thead>\n",
       "  <tbody>\n",
       "    <tr>\n",
       "      <th>0</th>\n",
       "      <td>64fd08e906c256acd1ae9c00</td>\n",
       "      <td>Points d'apport volontaire - Verre</td>\n",
       "      <td>La Communauté de Communes organise la collecte...</td>\n",
       "      <td>Occitanie Pyrénées en Intelligence Géomatique</td>\n",
       "      <td>https://www.data.gouv.fr/fr/datasets/sync-6110...</td>\n",
       "      <td>0</td>\n",
       "      <td>0</td>\n",
       "      <td>0</td>\n",
       "      <td>2</td>\n",
       "      <td>26e4ad2e-6a50-4dc1-84e7-444c281cdb64</td>\n",
       "    </tr>\n",
       "    <tr>\n",
       "      <th>1</th>\n",
       "      <td>64fd08e9253e0e1416ae9bff</td>\n",
       "      <td>Zones d'activités économiques intercommunales</td>\n",
       "      <td>Zones d’activités économiques intercommunales ...</td>\n",
       "      <td>Occitanie Pyrénées en Intelligence Géomatique</td>\n",
       "      <td>https://www.data.gouv.fr/fr/datasets/sync-6110...</td>\n",
       "      <td>0</td>\n",
       "      <td>0</td>\n",
       "      <td>0</td>\n",
       "      <td>2</td>\n",
       "      <td>4209854d-f02e-421a-b882-8669b9f31975</td>\n",
       "    </tr>\n",
       "    <tr>\n",
       "      <th>2</th>\n",
       "      <td>64fd08e9ed763c6f46ae9bff</td>\n",
       "      <td>Occupation du sol 2018</td>\n",
       "      <td>Base de données d'Occupation du sol du territo...</td>\n",
       "      <td>Occitanie Pyrénées en Intelligence Géomatique</td>\n",
       "      <td>https://www.data.gouv.fr/fr/datasets/sync-6135...</td>\n",
       "      <td>0</td>\n",
       "      <td>0</td>\n",
       "      <td>0</td>\n",
       "      <td>2</td>\n",
       "      <td>ea6144b6-d2ce-4aa7-8ed0-ac09fc81096d</td>\n",
       "    </tr>\n",
       "  </tbody>\n",
       "</table>\n",
       "</div>"
      ],
      "text/plain": [
       "                 id_dataset                                  title_dataset  \\\n",
       "0  64fd08e906c256acd1ae9c00             Points d'apport volontaire - Verre   \n",
       "1  64fd08e9253e0e1416ae9bff  Zones d'activités économiques intercommunales   \n",
       "2  64fd08e9ed763c6f46ae9bff                         Occupation du sol 2018   \n",
       "\n",
       "                                 description_dataset  \\\n",
       "0  La Communauté de Communes organise la collecte...   \n",
       "1  Zones d’activités économiques intercommunales ...   \n",
       "2  Base de données d'Occupation du sol du territo...   \n",
       "\n",
       "                                    organization  \\\n",
       "0  Occitanie Pyrénées en Intelligence Géomatique   \n",
       "1  Occitanie Pyrénées en Intelligence Géomatique   \n",
       "2  Occitanie Pyrénées en Intelligence Géomatique   \n",
       "\n",
       "                                         url_dataset  nb_discussions  \\\n",
       "0  https://www.data.gouv.fr/fr/datasets/sync-6110...               0   \n",
       "1  https://www.data.gouv.fr/fr/datasets/sync-6110...               0   \n",
       "2  https://www.data.gouv.fr/fr/datasets/sync-6135...               0   \n",
       "\n",
       "   nb_followers  nb_reuses  nb_views                             remote_id  \n",
       "0             0          0         2  26e4ad2e-6a50-4dc1-84e7-444c281cdb64  \n",
       "1             0          0         2  4209854d-f02e-421a-b882-8669b9f31975  \n",
       "2             0          0         2  ea6144b6-d2ce-4aa7-8ed0-ac09fc81096d  "
      ]
     },
     "execution_count": 20,
     "metadata": {},
     "output_type": "execute_result"
    }
   ],
   "source": [
    "input_csv_file = '../../../data/raw/data_acquisition/extraction_datasets/discussions.csv'\n",
    "discussions = pd.read_csv(input_csv_file)\n",
    "discussions.head(3)"
   ]
  },
  {
   "cell_type": "code",
   "execution_count": 19,
   "metadata": {},
   "outputs": [
    {
     "data": {
      "text/plain": [
       "(48923, 10)"
      ]
     },
     "execution_count": 19,
     "metadata": {},
     "output_type": "execute_result"
    }
   ],
   "source": [
    "discussions.shape"
   ]
  },
  {
   "cell_type": "code",
   "execution_count": 17,
   "metadata": {},
   "outputs": [
    {
     "data": {
      "text/plain": [
       "id_dataset                 0\n",
       "title_dataset              0\n",
       "description_dataset      472\n",
       "organization            3373\n",
       "url_dataset                0\n",
       "nb_discussions             0\n",
       "nb_followers               0\n",
       "nb_reuses                  0\n",
       "nb_views                   0\n",
       "remote_id              30364\n",
       "dtype: int64"
      ]
     },
     "execution_count": 17,
     "metadata": {},
     "output_type": "execute_result"
    }
   ],
   "source": [
    "discussions.isna().sum()"
   ]
  },
  {
   "cell_type": "code",
   "execution_count": 35,
   "metadata": {},
   "outputs": [
    {
     "data": {
      "text/html": [
       "<div>\n",
       "<style scoped>\n",
       "    .dataframe tbody tr th:only-of-type {\n",
       "        vertical-align: middle;\n",
       "    }\n",
       "\n",
       "    .dataframe tbody tr th {\n",
       "        vertical-align: top;\n",
       "    }\n",
       "\n",
       "    .dataframe thead th {\n",
       "        text-align: right;\n",
       "    }\n",
       "</style>\n",
       "<table border=\"1\" class=\"dataframe\">\n",
       "  <thead>\n",
       "    <tr style=\"text-align: right;\">\n",
       "      <th></th>\n",
       "      <th>id_discussion</th>\n",
       "      <th>id_dataset</th>\n",
       "      <th>title_discussion</th>\n",
       "      <th>user</th>\n",
       "      <th>message</th>\n",
       "      <th>created</th>\n",
       "      <th>closed</th>\n",
       "      <th>posted_on</th>\n",
       "    </tr>\n",
       "  </thead>\n",
       "  <tbody>\n",
       "    <tr>\n",
       "      <th>0</th>\n",
       "      <td>64fee6b8a90afb1f587b766d</td>\n",
       "      <td>5de8f397634f4164071119c5</td>\n",
       "      <td>Décès des nouveaux-nés</td>\n",
       "      <td>Thomas PJ</td>\n",
       "      <td>Bonjour à tous,\\n\\nAprès exploration des fichi...</td>\n",
       "      <td>11/09/2023</td>\n",
       "      <td>NaN</td>\n",
       "      <td>2023-09-11T10:06:48.524000+00:00</td>\n",
       "    </tr>\n",
       "    <tr>\n",
       "      <th>1</th>\n",
       "      <td>64fed88663dda0863ebd1746</td>\n",
       "      <td>58d8d8a0c751df17537c66be</td>\n",
       "      <td>Pyrénées Atlantique</td>\n",
       "      <td>Hélène Grosbois</td>\n",
       "      <td>Bonjour,\\nIl y n'y a que les Pyrennées Atlanti...</td>\n",
       "      <td>11/09/2023</td>\n",
       "      <td>NaN</td>\n",
       "      <td>2023-09-11T09:06:14.163000+00:00</td>\n",
       "    </tr>\n",
       "    <tr>\n",
       "      <th>2</th>\n",
       "      <td>64fed88663dda0863ebd1746</td>\n",
       "      <td>58d8d8a0c751df17537c66be</td>\n",
       "      <td>Pyrénées Atlantique</td>\n",
       "      <td>Hélène Grosbois</td>\n",
       "      <td>Je me suis trompée de page, je parle du fichie...</td>\n",
       "      <td>11/09/2023</td>\n",
       "      <td>NaN</td>\n",
       "      <td>2023-09-11T09:07:52.833000+00:00</td>\n",
       "    </tr>\n",
       "  </tbody>\n",
       "</table>\n",
       "</div>"
      ],
      "text/plain": [
       "              id_discussion                id_dataset        title_discussion  \\\n",
       "0  64fee6b8a90afb1f587b766d  5de8f397634f4164071119c5  Décès des nouveaux-nés   \n",
       "1  64fed88663dda0863ebd1746  58d8d8a0c751df17537c66be     Pyrénées Atlantique   \n",
       "2  64fed88663dda0863ebd1746  58d8d8a0c751df17537c66be     Pyrénées Atlantique   \n",
       "\n",
       "              user                                            message  \\\n",
       "0        Thomas PJ  Bonjour à tous,\\n\\nAprès exploration des fichi...   \n",
       "1  Hélène Grosbois  Bonjour,\\nIl y n'y a que les Pyrennées Atlanti...   \n",
       "2  Hélène Grosbois  Je me suis trompée de page, je parle du fichie...   \n",
       "\n",
       "      created closed                         posted_on  \n",
       "0  11/09/2023    NaN  2023-09-11T10:06:48.524000+00:00  \n",
       "1  11/09/2023    NaN  2023-09-11T09:06:14.163000+00:00  \n",
       "2  11/09/2023    NaN  2023-09-11T09:07:52.833000+00:00  "
      ]
     },
     "execution_count": 35,
     "metadata": {},
     "output_type": "execute_result"
    }
   ],
   "source": [
    "input_csv_file = '../../../data/raw/data_acquisition/extraction_discussions/datasets.csv'\n",
    "datasets = pd.read_csv(input_csv_file)\n",
    "datasets.head(3)"
   ]
  },
  {
   "cell_type": "code",
   "execution_count": 36,
   "metadata": {},
   "outputs": [
    {
     "data": {
      "text/plain": [
       "(31348, 8)"
      ]
     },
     "execution_count": 36,
     "metadata": {},
     "output_type": "execute_result"
    }
   ],
   "source": [
    "datasets.shape"
   ]
  },
  {
   "cell_type": "code",
   "execution_count": 37,
   "metadata": {},
   "outputs": [
    {
     "data": {
      "text/plain": [
       "id_discussion           0\n",
       "id_dataset              0\n",
       "title_discussion        0\n",
       "user                    0\n",
       "message                 0\n",
       "created                 0\n",
       "closed              25138\n",
       "posted_on               0\n",
       "dtype: int64"
      ]
     },
     "execution_count": 37,
     "metadata": {},
     "output_type": "execute_result"
    }
   ],
   "source": [
    "datasets.isna().sum()"
   ]
  },
  {
   "cell_type": "code",
   "execution_count": null,
   "metadata": {},
   "outputs": [],
   "source": [
    "input_csv_file = '../../../data/raw/data_acquisition/merging_data/merged_data.csv'\n",
    "df_merged = pd.read_csv(input_csv_file)\n",
    "df_merged.head(3)"
   ]
  },
  {
   "cell_type": "code",
   "execution_count": null,
   "metadata": {},
   "outputs": [],
   "source": [
    "df_merged.shape"
   ]
  },
  {
   "cell_type": "code",
   "execution_count": null,
   "metadata": {},
   "outputs": [],
   "source": [
    "df_merged.isna().sum()"
   ]
  },
  {
   "cell_type": "code",
   "execution_count": 28,
   "metadata": {},
   "outputs": [
    {
     "data": {
      "text/html": [
       "<div>\n",
       "<style scoped>\n",
       "    .dataframe tbody tr th:only-of-type {\n",
       "        vertical-align: middle;\n",
       "    }\n",
       "\n",
       "    .dataframe tbody tr th {\n",
       "        vertical-align: top;\n",
       "    }\n",
       "\n",
       "    .dataframe thead th {\n",
       "        text-align: right;\n",
       "    }\n",
       "</style>\n",
       "<table border=\"1\" class=\"dataframe\">\n",
       "  <thead>\n",
       "    <tr style=\"text-align: right;\">\n",
       "      <th></th>\n",
       "      <th>id_discussion</th>\n",
       "      <th>id_dataset</th>\n",
       "      <th>title_discussion</th>\n",
       "      <th>user</th>\n",
       "      <th>message</th>\n",
       "      <th>created</th>\n",
       "      <th>closed</th>\n",
       "      <th>title_dataset</th>\n",
       "      <th>description_dataset</th>\n",
       "      <th>organization</th>\n",
       "      <th>url_dataset</th>\n",
       "      <th>nb_discussions</th>\n",
       "      <th>nb_followers</th>\n",
       "      <th>nb_reuses</th>\n",
       "      <th>nb_views</th>\n",
       "      <th>remote_id</th>\n",
       "    </tr>\n",
       "  </thead>\n",
       "  <tbody>\n",
       "    <tr>\n",
       "      <th>0</th>\n",
       "      <td>5566b28754b314fff698bbc6</td>\n",
       "      <td>5369965fa3a729239d204999</td>\n",
       "      <td>La première ressource est inaccessible</td>\n",
       "      <td>Romain Tales</td>\n",
       "      <td>Bonjour,\\n\\nLa première ressource est inaccess...</td>\n",
       "      <td>22/09/2014</td>\n",
       "      <td>NaN</td>\n",
       "      <td>Impôts locaux</td>\n",
       "      <td>Vous pouvez consulter les taux votés ainsi que...</td>\n",
       "      <td>Ministère de l'Économie, des Finances et de la...</td>\n",
       "      <td>https://www.data.gouv.fr/fr/datasets/impots-lo...</td>\n",
       "      <td>8</td>\n",
       "      <td>15</td>\n",
       "      <td>6</td>\n",
       "      <td>8198</td>\n",
       "      <td>impots-locaux0</td>\n",
       "    </tr>\n",
       "    <tr>\n",
       "      <th>1</th>\n",
       "      <td>5566b28a54b314fff698bd11</td>\n",
       "      <td>5369965fa3a729239d204999</td>\n",
       "      <td>La 1ère source est toujours inaccessible</td>\n",
       "      <td>Mahdi Ben Jelloul</td>\n",
       "      <td>La 1ère source est toujours inaccessible ...</td>\n",
       "      <td>22/05/2015</td>\n",
       "      <td>NaN</td>\n",
       "      <td>Impôts locaux</td>\n",
       "      <td>Vous pouvez consulter les taux votés ainsi que...</td>\n",
       "      <td>Ministère de l'Économie, des Finances et de la...</td>\n",
       "      <td>https://www.data.gouv.fr/fr/datasets/impots-lo...</td>\n",
       "      <td>8</td>\n",
       "      <td>15</td>\n",
       "      <td>6</td>\n",
       "      <td>8198</td>\n",
       "      <td>impots-locaux0</td>\n",
       "    </tr>\n",
       "    <tr>\n",
       "      <th>2</th>\n",
       "      <td>5b6be927634f4115c523bfef</td>\n",
       "      <td>5369965fa3a729239d204999</td>\n",
       "      <td>Taux d'imposition Impot locaux 2018</td>\n",
       "      <td>Anne Roulleau</td>\n",
       "      <td>Bonjour,\\nJ'aimerai savoir si les taux pour le...</td>\n",
       "      <td>09/08/2018</td>\n",
       "      <td>NaN</td>\n",
       "      <td>Impôts locaux</td>\n",
       "      <td>Vous pouvez consulter les taux votés ainsi que...</td>\n",
       "      <td>Ministère de l'Économie, des Finances et de la...</td>\n",
       "      <td>https://www.data.gouv.fr/fr/datasets/impots-lo...</td>\n",
       "      <td>8</td>\n",
       "      <td>15</td>\n",
       "      <td>6</td>\n",
       "      <td>8198</td>\n",
       "      <td>impots-locaux0</td>\n",
       "    </tr>\n",
       "  </tbody>\n",
       "</table>\n",
       "</div>"
      ],
      "text/plain": [
       "              id_discussion                id_dataset  \\\n",
       "0  5566b28754b314fff698bbc6  5369965fa3a729239d204999   \n",
       "1  5566b28a54b314fff698bd11  5369965fa3a729239d204999   \n",
       "2  5b6be927634f4115c523bfef  5369965fa3a729239d204999   \n",
       "\n",
       "                            title_discussion               user  \\\n",
       "0     La première ressource est inaccessible       Romain Tales   \n",
       "1  La 1ère source est toujours inaccessible   Mahdi Ben Jelloul   \n",
       "2        Taux d'imposition Impot locaux 2018      Anne Roulleau   \n",
       "\n",
       "                                             message     created closed  \\\n",
       "0  Bonjour,\\n\\nLa première ressource est inaccess...  22/09/2014    NaN   \n",
       "1       La 1ère source est toujours inaccessible ...  22/05/2015    NaN   \n",
       "2  Bonjour,\\nJ'aimerai savoir si les taux pour le...  09/08/2018    NaN   \n",
       "\n",
       "   title_dataset                                description_dataset  \\\n",
       "0  Impôts locaux  Vous pouvez consulter les taux votés ainsi que...   \n",
       "1  Impôts locaux  Vous pouvez consulter les taux votés ainsi que...   \n",
       "2  Impôts locaux  Vous pouvez consulter les taux votés ainsi que...   \n",
       "\n",
       "                                        organization  \\\n",
       "0  Ministère de l'Économie, des Finances et de la...   \n",
       "1  Ministère de l'Économie, des Finances et de la...   \n",
       "2  Ministère de l'Économie, des Finances et de la...   \n",
       "\n",
       "                                         url_dataset  nb_discussions  \\\n",
       "0  https://www.data.gouv.fr/fr/datasets/impots-lo...               8   \n",
       "1  https://www.data.gouv.fr/fr/datasets/impots-lo...               8   \n",
       "2  https://www.data.gouv.fr/fr/datasets/impots-lo...               8   \n",
       "\n",
       "   nb_followers  nb_reuses  nb_views       remote_id  \n",
       "0            15          6      8198  impots-locaux0  \n",
       "1            15          6      8198  impots-locaux0  \n",
       "2            15          6      8198  impots-locaux0  "
      ]
     },
     "execution_count": 28,
     "metadata": {},
     "output_type": "execute_result"
    }
   ],
   "source": [
    "input_csv_file = '../../../data/raw/data_acquisition/merging_data/dataset_mefsin.csv'\n",
    "mefsin = pd.read_csv(input_csv_file)\n",
    "mefsin.head(3)"
   ]
  },
  {
   "cell_type": "code",
   "execution_count": 30,
   "metadata": {},
   "outputs": [
    {
     "data": {
      "text/plain": [
       "(548, 16)"
      ]
     },
     "execution_count": 30,
     "metadata": {},
     "output_type": "execute_result"
    }
   ],
   "source": [
    "mefsin.shape"
   ]
  },
  {
   "cell_type": "code",
   "execution_count": 29,
   "metadata": {},
   "outputs": [
    {
     "data": {
      "text/plain": [
       "id_discussion            0\n",
       "id_dataset               0\n",
       "title_discussion         0\n",
       "user                     0\n",
       "message                  0\n",
       "created                  0\n",
       "closed                 418\n",
       "title_dataset            0\n",
       "description_dataset      0\n",
       "organization             0\n",
       "url_dataset              0\n",
       "nb_discussions           0\n",
       "nb_followers             0\n",
       "nb_reuses                0\n",
       "nb_views                 0\n",
       "remote_id              239\n",
       "dtype: int64"
      ]
     },
     "execution_count": 29,
     "metadata": {},
     "output_type": "execute_result"
    }
   ],
   "source": [
    "mefsin.isna().sum()"
   ]
  },
  {
   "cell_type": "code",
   "execution_count": null,
   "metadata": {},
   "outputs": [],
   "source": [
    "mefsin.columns()"
   ]
  },
  {
   "cell_type": "code",
   "execution_count": null,
   "metadata": {},
   "outputs": [],
   "source": []
  }
 ],
 "metadata": {
  "kernelspec": {
   "display_name": "Python 3.10.12 64-bit",
   "language": "python",
   "name": "python3"
  },
  "language_info": {
   "codemirror_mode": {
    "name": "ipython",
    "version": 3
   },
   "file_extension": ".py",
   "mimetype": "text/x-python",
   "name": "python",
   "nbconvert_exporter": "python",
   "pygments_lexer": "ipython3",
   "version": "3.10.12"
  },
  "orig_nbformat": 4,
  "vscode": {
   "interpreter": {
    "hash": "916dbcbb3f70747c44a77c7bcd40155683ae19c65e1c03b4aa3499c5328201f1"
   }
  }
 },
 "nbformat": 4,
 "nbformat_minor": 2
}
